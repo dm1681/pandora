{
 "cells": [
  {
   "cell_type": "code",
   "execution_count": null,
   "metadata": {
    "collapsed": true
   },
   "outputs": [],
   "source": [
    "from __future__ import division, print_function, absolute_import, unicode_literals\n",
    "import matplotlib.pyplot as plt\n",
    "import vplot as vpl\n",
    "\n",
    "# Figure 7 --> first 1e6 of short, RotPer and Obliquity, both low and mid e/i\n",
    "\n",
    "#low e/i\n",
    "output = vpl.GetOutput('circ_copl')\n",
    "\n",
    "fig, ax = plt.subplots(2,2, figsize = (7,9))\n",
    "plt.rcParams.update({'font.size':12})\n",
    "\n",
    "\n",
    "\n",
    "#RotPer (low)\n",
    "vpl.plot(ax[0,0],output.star.Time, output.b.RotPer, label='low e,i',color=vpl.colors.pale_blue) # planet b\n",
    "\n",
    "\n",
    "#Obliquity (low)\n",
    "vpl.plot(ax[1,0],output.star.Time, output.b.Obliquity, label='low e,i', color=vpl.colors.pale_blue) # planet b\n",
    "\n",
    "\n",
    "#mid e/i\n",
    "output = vpl.GetOutput('mid_e_i')\n",
    "\n",
    "#RotPer (mid)\n",
    "vpl.plot(ax[0,0], output.star.Time, output.b.RotPer, label='high e,i', color=vpl.colors.orange)\n",
    "\n",
    "#Obliquity (mid)\n",
    "vpl.plot(ax[1,0], output.star.Time, output.b.Obliquity, label='high e,i', color=vpl.colors.orange)\n",
    "\n",
    "#CassiniOne and CassiniTwo\n",
    "vpl.plot(ax[0,0], output.star.Time, output.b.CassiniOne, label'high e,i', color=vpl.colors.orange)\n",
    "vpl.plot(ax[0,0], output.star.Time, output.b.CassiniTwo, label'high e,i', color=vpl.colors.orange)\n",
    "\n",
    "#Formatting\n",
    "ax[0].legend(loc = 5)\n",
    "ax[0].set_xlim(0,2*(10**5))\n",
    "ax[1].set_xlim(0,2*(10**5))\n",
    "ax[0].set_xlabel('Time (years)')\n",
    "ax[1].set_xlabel('Time (years)')\n",
    "\n",
    "vpl.show()"
   ]
  }
 ],
 "metadata": {
  "anaconda-cloud": {},
  "kernelspec": {
   "display_name": "Python [Root]",
   "language": "python",
   "name": "Python [Root]"
  },
  "language_info": {
   "codemirror_mode": {
    "name": "ipython",
    "version": 3
   },
   "file_extension": ".py",
   "mimetype": "text/x-python",
   "name": "python",
   "nbconvert_exporter": "python",
   "pygments_lexer": "ipython3",
   "version": "3.5.2"
  }
 },
 "nbformat": 4,
 "nbformat_minor": 0
}
